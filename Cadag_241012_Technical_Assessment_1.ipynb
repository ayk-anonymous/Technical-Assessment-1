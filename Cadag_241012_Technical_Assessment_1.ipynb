{
  "nbformat": 4,
  "nbformat_minor": 0,
  "metadata": {
    "colab": {
      "provenance": [],
      "include_colab_link": true
    },
    "kernelspec": {
      "name": "python3",
      "display_name": "Python 3"
    },
    "language_info": {
      "name": "python"
    }
  },
  "cells": [
    {
      "cell_type": "markdown",
      "metadata": {
        "id": "view-in-github",
        "colab_type": "text"
      },
      "source": [
        "<a href=\"https://colab.research.google.com/github/ayk-anonymous/Technical-Assessment-1/blob/main/Cadag_241012_Technical_Assessment_1.ipynb\" target=\"_parent\"><img src=\"https://colab.research.google.com/assets/colab-badge.svg\" alt=\"Open In Colab\"/></a>"
      ]
    },
    {
      "cell_type": "code",
      "execution_count": 3,
      "metadata": {
        "id": "Uc6bmYBH9otA",
        "colab": {
          "base_uri": "https://localhost:8080/"
        },
        "outputId": "acaa5a41-3881-473b-96b1-1c3ce6a0541b"
      },
      "outputs": [
        {
          "output_type": "stream",
          "name": "stdout",
          "text": [
            "Requirement already satisfied: transformers in /usr/local/lib/python3.10/dist-packages (4.44.2)\n",
            "Requirement already satisfied: torch in /usr/local/lib/python3.10/dist-packages (2.4.1+cu121)\n",
            "Requirement already satisfied: nltk in /usr/local/lib/python3.10/dist-packages (3.8.1)\n",
            "Requirement already satisfied: flask in /usr/local/lib/python3.10/dist-packages (2.2.5)\n",
            "Requirement already satisfied: filelock in /usr/local/lib/python3.10/dist-packages (from transformers) (3.16.1)\n",
            "Requirement already satisfied: huggingface-hub<1.0,>=0.23.2 in /usr/local/lib/python3.10/dist-packages (from transformers) (0.24.7)\n",
            "Requirement already satisfied: numpy>=1.17 in /usr/local/lib/python3.10/dist-packages (from transformers) (1.26.4)\n",
            "Requirement already satisfied: packaging>=20.0 in /usr/local/lib/python3.10/dist-packages (from transformers) (24.1)\n",
            "Requirement already satisfied: pyyaml>=5.1 in /usr/local/lib/python3.10/dist-packages (from transformers) (6.0.2)\n",
            "Requirement already satisfied: regex!=2019.12.17 in /usr/local/lib/python3.10/dist-packages (from transformers) (2024.9.11)\n",
            "Requirement already satisfied: requests in /usr/local/lib/python3.10/dist-packages (from transformers) (2.32.3)\n",
            "Requirement already satisfied: safetensors>=0.4.1 in /usr/local/lib/python3.10/dist-packages (from transformers) (0.4.5)\n",
            "Requirement already satisfied: tokenizers<0.20,>=0.19 in /usr/local/lib/python3.10/dist-packages (from transformers) (0.19.1)\n",
            "Requirement already satisfied: tqdm>=4.27 in /usr/local/lib/python3.10/dist-packages (from transformers) (4.66.5)\n",
            "Requirement already satisfied: typing-extensions>=4.8.0 in /usr/local/lib/python3.10/dist-packages (from torch) (4.12.2)\n",
            "Requirement already satisfied: sympy in /usr/local/lib/python3.10/dist-packages (from torch) (1.13.3)\n",
            "Requirement already satisfied: networkx in /usr/local/lib/python3.10/dist-packages (from torch) (3.3)\n",
            "Requirement already satisfied: jinja2 in /usr/local/lib/python3.10/dist-packages (from torch) (3.1.4)\n",
            "Requirement already satisfied: fsspec in /usr/local/lib/python3.10/dist-packages (from torch) (2024.6.1)\n",
            "Requirement already satisfied: click in /usr/local/lib/python3.10/dist-packages (from nltk) (8.1.7)\n",
            "Requirement already satisfied: joblib in /usr/local/lib/python3.10/dist-packages (from nltk) (1.4.2)\n",
            "Requirement already satisfied: Werkzeug>=2.2.2 in /usr/local/lib/python3.10/dist-packages (from flask) (3.0.4)\n",
            "Requirement already satisfied: itsdangerous>=2.0 in /usr/local/lib/python3.10/dist-packages (from flask) (2.2.0)\n",
            "Requirement already satisfied: MarkupSafe>=2.0 in /usr/local/lib/python3.10/dist-packages (from jinja2->torch) (2.1.5)\n",
            "Requirement already satisfied: charset-normalizer<4,>=2 in /usr/local/lib/python3.10/dist-packages (from requests->transformers) (3.3.2)\n",
            "Requirement already satisfied: idna<4,>=2.5 in /usr/local/lib/python3.10/dist-packages (from requests->transformers) (3.10)\n",
            "Requirement already satisfied: urllib3<3,>=1.21.1 in /usr/local/lib/python3.10/dist-packages (from requests->transformers) (2.2.3)\n",
            "Requirement already satisfied: certifi>=2017.4.17 in /usr/local/lib/python3.10/dist-packages (from requests->transformers) (2024.8.30)\n",
            "Requirement already satisfied: mpmath<1.4,>=1.1.0 in /usr/local/lib/python3.10/dist-packages (from sympy->torch) (1.3.0)\n"
          ]
        }
      ],
      "source": [
        "pip install transformers torch nltk flask"
      ]
    },
    {
      "cell_type": "code",
      "source": [
        "from google.colab import drive\n",
        "drive.mount('/content/drive')"
      ],
      "metadata": {
        "colab": {
          "base_uri": "https://localhost:8080/"
        },
        "id": "rYwo8JvSWmk-",
        "outputId": "66ec27d7-9263-447f-be88-e1f073529f27"
      },
      "execution_count": 2,
      "outputs": [
        {
          "output_type": "stream",
          "name": "stdout",
          "text": [
            "Mounted at /content/drive\n"
          ]
        }
      ]
    },
    {
      "cell_type": "code",
      "source": [
        "import json\n",
        "\n",
        "# Load the dataset\n",
        "with open('/content/drive/MyDrive/Intent-Chatbot-Dataset.json', 'r') as f:\n",
        "    dataset = json.load(f)\n",
        "\n",
        "print(dataset)\n"
      ],
      "metadata": {
        "colab": {
          "base_uri": "https://localhost:8080/"
        },
        "id": "bCqzfb7TQIm6",
        "outputId": "87d7ed49-9818-4f2f-f1f8-351782ac9a31"
      },
      "execution_count": 4,
      "outputs": [
        {
          "output_type": "stream",
          "name": "stdout",
          "text": [
            "[{'user_input': \"What's the weather like today?\", 'intent': 'get_weather', 'entities': {'date': 'today'}}, {'user_input': 'Book a flight to New York tomorrow.', 'intent': 'book_flight', 'entities': {'destination': 'New York', 'date': 'tomorrow'}}, {'user_input': 'Set a reminder for 9 AM.', 'intent': 'set_reminder', 'entities': {'time': '9 AM'}}, {'user_input': 'Order me a pizza.', 'intent': 'order_food', 'entities': {'food_item': 'pizza'}}, {'user_input': 'Find me a nearby coffee shop.', 'intent': 'find_place', 'entities': {'place_type': 'coffee shop', 'location': 'nearby'}}, {'user_input': 'Play some jazz music.', 'intent': 'play_music', 'entities': {'genre': 'jazz'}}, {'user_input': 'Show me the news.', 'intent': 'get_news', 'entities': {}}, {'user_input': \"What's the capital of France?\", 'intent': 'get_fact', 'entities': {'country': 'France'}}, {'user_input': \"What's 25 times 6?\", 'intent': 'math_operation', 'entities': {'operation': 'multiplication', 'numbers': [25, 6]}}, {'user_input': \"Translate 'hello' to Spanish.\", 'intent': 'translate', 'entities': {'text': 'hello', 'target_language': 'Spanish'}}, {'user_input': 'Remind me to call mom at 5 PM.', 'intent': 'set_reminder', 'entities': {'task': 'call mom', 'time': '5 PM'}}, {'user_input': 'What’s my schedule for tomorrow?', 'intent': 'get_schedule', 'entities': {'date': 'tomorrow'}}, {'user_input': 'Turn off the kitchen lights.', 'intent': 'control_device', 'entities': {'device': 'lights', 'location': 'kitchen', 'action': 'turn off'}}, {'user_input': 'Can you set an alarm for 7 AM?', 'intent': 'set_alarm', 'entities': {'time': '7 AM'}}, {'user_input': \"What's the best Italian restaurant around?\", 'intent': 'find_place', 'entities': {'place_type': 'restaurant', 'cuisine': 'Italian', 'location': 'around'}}, {'user_input': 'Send an email to John.', 'intent': 'send_email', 'entities': {'recipient': 'John'}}, {'user_input': 'Call the nearest pharmacy.', 'intent': 'make_call', 'entities': {'place_type': 'pharmacy', 'location': 'nearest'}}, {'user_input': \"What's the population of Japan?\", 'intent': 'get_fact', 'entities': {'country': 'Japan'}}, {'user_input': 'Can you play the latest podcast?', 'intent': 'play_media', 'entities': {'media_type': 'podcast', 'sort': 'latest'}}, {'user_input': 'Find me a hotel in Paris.', 'intent': 'find_place', 'entities': {'place_type': 'hotel', 'location': 'Paris'}}, {'user_input': 'Show me my flight status.', 'intent': 'get_flight_status', 'entities': {}}, {'user_input': \"What's 150 divided by 3?\", 'intent': 'math_operation', 'entities': {'operation': 'division', 'numbers': [150, 3]}}, {'user_input': \"What's my next appointment?\", 'intent': 'get_schedule', 'entities': {}}, {'user_input': 'Check the traffic to work.', 'intent': 'get_traffic', 'entities': {'destination': 'work'}}, {'user_input': 'Find me a vegetarian restaurant nearby.', 'intent': 'find_place', 'entities': {'place_type': 'restaurant', 'diet': 'vegetarian', 'location': 'nearby'}}, {'user_input': 'Can you send a text to Sarah?', 'intent': 'send_message', 'entities': {'recipient': 'Sarah'}}, {'user_input': \"What's the weather in Tokyo next week?\", 'intent': 'get_weather', 'entities': {'location': 'Tokyo', 'date': 'next week'}}, {'user_input': 'Turn the volume up.', 'intent': 'control_device', 'entities': {'device': 'volume', 'action': 'turn up'}}, {'user_input': 'Where’s the nearest gas station?', 'intent': 'find_place', 'entities': {'place_type': 'gas station', 'location': 'nearest'}}, {'user_input': 'What time is sunset today?', 'intent': 'get_weather', 'entities': {'event': 'sunset', 'date': 'today'}}, {'user_input': 'What’s the price of Bitcoin right now?', 'intent': 'get_price', 'entities': {'asset': 'Bitcoin', 'time': 'right now'}}, {'user_input': 'Remind me to take out the trash on Friday.', 'intent': 'set_reminder', 'entities': {'task': 'take out the trash', 'date': 'Friday'}}, {'user_input': 'Turn on the TV.', 'intent': 'control_device', 'entities': {'device': 'TV', 'action': 'turn on'}}, {'user_input': 'Show me the latest news about tech.', 'intent': 'get_news', 'entities': {'category': 'tech', 'sort': 'latest'}}, {'user_input': \"Translate 'goodbye' to French.\", 'intent': 'translate', 'entities': {'text': 'goodbye', 'target_language': 'French'}}, {'user_input': 'How long is the flight from LA to Tokyo?', 'intent': 'get_flight_info', 'entities': {'departure': 'LA', 'destination': 'Tokyo'}}, {'user_input': 'Where can I buy a laptop?', 'intent': 'find_place', 'entities': {'place_type': 'store', 'product': 'laptop'}}, {'user_input': 'Remind me to water the plants every Monday.', 'intent': 'set_recurring_reminder', 'entities': {'task': 'water the plants', 'recurrence': 'Monday'}}, {'user_input': 'Turn off the bedroom lights.', 'intent': 'control_device', 'entities': {'device': 'lights', 'location': 'bedroom', 'action': 'turn off'}}, {'user_input': 'How far is the moon?', 'intent': 'get_fact', 'entities': {'object': 'moon'}}, {'user_input': 'Call mom.', 'intent': 'make_call', 'entities': {'recipient': 'mom'}}, {'user_input': 'Book a table for two at a restaurant.', 'intent': 'make_reservation', 'entities': {'party_size': 2, 'place_type': 'restaurant'}}, {'user_input': 'Order Chinese food.', 'intent': 'order_food', 'entities': {'cuisine': 'Chinese', 'food_type': 'food'}}, {'user_input': 'What’s the time in London?', 'intent': 'get_time', 'entities': {'location': 'London'}}, {'user_input': \"How's the weather next Friday?\", 'intent': 'get_weather', 'entities': {'date': 'next Friday'}}, {'user_input': 'What’s my next meeting?', 'intent': 'get_schedule', 'entities': {}}, {'user_input': 'Cancel my 2 PM alarm.', 'intent': 'cancel_alarm', 'entities': {'time': '2 PM'}}, {'user_input': 'Add eggs to my shopping list.', 'intent': 'add_to_list', 'entities': {'item': 'eggs', 'list': 'shopping'}}, {'user_input': 'How tall is the Eiffel Tower?', 'intent': 'get_fact', 'entities': {'object': 'Eiffel Tower'}}]\n"
          ]
        }
      ]
    },
    {
      "cell_type": "code",
      "source": [
        "from transformers import pipeline\n",
        "\n",
        "intent_classifier = pipeline(\"zero-shot-classification\")\n",
        "entity_extractor = pipeline(\"ner\", aggregation_strategy=\"simple\")"
      ],
      "metadata": {
        "colab": {
          "base_uri": "https://localhost:8080/"
        },
        "id": "LDgiPWQkQJic",
        "outputId": "f9f44720-c4ad-4da9-fbb6-f0baab2af201"
      },
      "execution_count": 10,
      "outputs": [
        {
          "output_type": "stream",
          "name": "stderr",
          "text": [
            "No model was supplied, defaulted to facebook/bart-large-mnli and revision c626438 (https://huggingface.co/facebook/bart-large-mnli).\n",
            "Using a pipeline without specifying a model name and revision in production is not recommended.\n",
            "No model was supplied, defaulted to dbmdz/bert-large-cased-finetuned-conll03-english and revision f2482bf (https://huggingface.co/dbmdz/bert-large-cased-finetuned-conll03-english).\n",
            "Using a pipeline without specifying a model name and revision in production is not recommended.\n",
            "Some weights of the model checkpoint at dbmdz/bert-large-cased-finetuned-conll03-english were not used when initializing BertForTokenClassification: ['bert.pooler.dense.bias', 'bert.pooler.dense.weight']\n",
            "- This IS expected if you are initializing BertForTokenClassification from the checkpoint of a model trained on another task or with another architecture (e.g. initializing a BertForSequenceClassification model from a BertForPreTraining model).\n",
            "- This IS NOT expected if you are initializing BertForTokenClassification from the checkpoint of a model that you expect to be exactly identical (initializing a BertForSequenceClassification model from a BertForSequenceClassification model).\n"
          ]
        }
      ]
    },
    {
      "cell_type": "code",
      "source": [
        "def identify_intent(user_query):\n",
        "    intent_labels = [entry['intent'] for entry in dataset]\n",
        "    classification_result = intent_classifier(user_query, candidate_labels=intent_labels)\n",
        "    return classification_result\n",
        "\n",
        "def identify_entities(user_query):\n",
        "    extracted_entities = entity_extractor(user_query)\n",
        "    return extracted_entities"
      ],
      "metadata": {
        "id": "QRmop-FOQXhQ"
      },
      "execution_count": 11,
      "outputs": []
    },
    {
      "cell_type": "code",
      "source": [
        "feedback_records = []\n",
        "\n",
        "def gather_feedback(user_query, user_rating):\n",
        "    feedback_records.append({\"query\": user_query, \"rating\": user_rating})\n",
        "\n",
        "def refine_responses():\n",
        "    for record in feedback_records:\n",
        "        if record[\"rating\"] < 3:\n",
        "            print(f\"Enhance response for: {record['query']}\")"
      ],
      "metadata": {
        "id": "4D-ch72eQaK2"
      },
      "execution_count": 12,
      "outputs": []
    },
    {
      "cell_type": "code",
      "source": [
        "def generate_chatbot_response(user_query):\n",
        "    intent_analysis = identify_intent(user_query)\n",
        "    entities_extraction = identify_entities(user_query)\n",
        "\n",
        "    top_intent = intent_analysis['labels'][0]\n",
        "    top_score = intent_analysis['scores'][0]\n",
        "\n",
        "    extracted_entities = [{\"word\": entity['word'], \"score\": entity['score']} for entity in entities_extraction]\n",
        "\n",
        "    response_message = f\"Intent: {top_intent}\\nEntities: {extracted_entities}\"\n",
        "\n",
        "    return response_message\n",
        "\n",
        "user_query = \"Make a reservation for two at an Italian restaurant in downtown.\"\n",
        "response_message = generate_chatbot_response(user_query)\n",
        "print(response_message)\n",
        "\n",
        "user_rating = int(input(\"Rate the response from 1 to 5: \"))\n",
        "gather_feedback(user_query, user_rating)\n",
        "refine_responses()"
      ],
      "metadata": {
        "colab": {
          "base_uri": "https://localhost:8080/"
        },
        "id": "jemD3YDaQdhH",
        "outputId": "9556562c-9359-4b39-df47-b2ed6410b38d"
      },
      "execution_count": 14,
      "outputs": [
        {
          "name": "stdout",
          "output_type": "stream",
          "text": [
            "Intent: make_reservation\n",
            "Entities: [{'word': 'Italian', 'score': 0.9980433}]\n",
            "Rate the response from 1 to 5: 5\n"
          ]
        }
      ]
    }
  ]
}